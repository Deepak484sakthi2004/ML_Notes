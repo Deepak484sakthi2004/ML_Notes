{
  "nbformat": 4,
  "nbformat_minor": 0,
  "metadata": {
    "colab": {
      "provenance": []
    },
    "kernelspec": {
      "name": "python3",
      "display_name": "Python 3"
    },
    "language_info": {
      "name": "python"
    }
  },
  "cells": [
    {
      "cell_type": "markdown",
      "source": [
        "**LINEAR REGRESSION**"
      ],
      "metadata": {
        "id": "T6g8i2y2XTfW"
      }
    },
    {
      "cell_type": "code",
      "source": [
        "import numpy as np\n",
        "class linearRegression_sample:\n",
        "  def __init__(self,learning_rate=0.001,n_iter=1000):\n",
        "    self.learning_rate=learning_rate\n",
        "    self.n_iter=n_iter\n",
        "    self.weigh=None\n",
        "    self.bias=None\n",
        "\n",
        "  def fit(self,X_train,y_train):\n",
        "    samples,features=X_train.shape\n",
        "    self.weigh=np.zeros((features,1))\n",
        "    self.bias=0\n",
        "\n",
        "    for _ in range(self.n_iter):\n",
        "      predictions=self.predict(X_train)\n",
        "\n",
        "      dw = (2/samples)*np.dot(X_train.T,predictions)\n",
        "      db = (1/samples)*np.sum(predictions)\n",
        "\n",
        "      self.weigh -= self.learning_rate*dw.reshape(-1,1)\n",
        "      self.bias -= self.learning_rate*db\n",
        "\n",
        "  def predict(self,X_test):\n",
        "    return np.dot(X_test,self.weigh) + self.bias\n",
        "\n"
      ],
      "metadata": {
        "id": "KSKzG3raXYEU"
      },
      "execution_count": 1,
      "outputs": []
    },
    {
      "cell_type": "code",
      "source": [
        "def model_eval(X_train,y_train,X_test,y_test):\n",
        "  # Model Training\n",
        "  model = linearRegression_sample()\n",
        "  model.fit(X_train, y_train)\n",
        "\n",
        "  # Model Evaluation\n",
        "  y_pred = model.predict(X_test)\n",
        "\n",
        "\n",
        "  def mse(act,pred):\n",
        "    return (1/act.shape[0])*np.sum((act-pred)**2)\n",
        "\n",
        "\n",
        "  print(f\"Mean Squared Error on Test Set: {mse(y_test,y_pred)}\")"
      ],
      "metadata": {
        "id": "jsTZw37SxBsb"
      },
      "execution_count": 2,
      "outputs": []
    },
    {
      "cell_type": "code",
      "source": [],
      "metadata": {
        "id": "eHB8794mxBvj"
      },
      "execution_count": null,
      "outputs": []
    },
    {
      "cell_type": "code",
      "source": [],
      "metadata": {
        "id": "znx7FGNYxBz8"
      },
      "execution_count": null,
      "outputs": []
    },
    {
      "cell_type": "code",
      "source": [
        "def model_eval(X_train,y_train,X_test,y_test):\n",
        "  # Model Training\n",
        "  model = linearRegression_sample()\n",
        "  model.fit(X_train, y_train)\n",
        "\n",
        "  # Model Evaluation\n",
        "  y_pred = model.predict(X_test)\n",
        "\n",
        "\n",
        "  def mse(act,pred):\n",
        "    return np.mean((acc-pred)**2)\n",
        "\n",
        "\n",
        "  print(f\"Mean Squared Error on Test Set: {mse(y_test,y_pred)}\")"
      ],
      "metadata": {
        "id": "R5bYNA_mXdr0"
      },
      "execution_count": 3,
      "outputs": []
    },
    {
      "cell_type": "markdown",
      "source": [
        "**KNN**"
      ],
      "metadata": {
        "id": "bmORlMRCXlLM"
      }
    },
    {
      "cell_type": "code",
      "source": [
        "from collections import Counter\n",
        "import numpy as np\n",
        "\n",
        "def euclian(x1,x2):\n",
        "  return np.sqrt(np.sum((x1-x2)**2))\n",
        "\n",
        "\n",
        "class KNN:\n",
        "  def __init__(self,n_neighbors=3):\n",
        "    self.n_neighbors=n_neighbors\n",
        "\n",
        "  def fit(self,X_train,y_train):\n",
        "      self.X_train=X_train\n",
        "      self.y_train=y_train\n",
        "\n",
        "  def predict(self,X_test):\n",
        "      predictions = [self._predict(x) for x in X_test]\n",
        "      return predictions\n",
        "\n",
        "  def _predict(self,x):\n",
        "      distances=[euclian(x,n) for n in self.X_train]\n",
        "\n",
        "      near = np.argsort(distances)[:self.n_neighbors]\n",
        "      near_instances=[self.y_train[i] for i in near]\n",
        "\n",
        "      most_common=Counter(near_instances).most_common()\n",
        "\n",
        "      return most_common[0][0]"
      ],
      "metadata": {
        "id": "5ytu7kXTXdvA"
      },
      "execution_count": 4,
      "outputs": []
    },
    {
      "cell_type": "markdown",
      "source": [
        "**LOGISTIC REGRESSION**"
      ],
      "metadata": {
        "id": "xAlYbKqBXt8d"
      }
    },
    {
      "cell_type": "code",
      "source": [
        "import numpy as np\n",
        "import pandas as pd\n",
        "from sklearn.model_selection import train_test_split\n",
        "from sklearn.metrics import accuracy_score\n",
        "def sigmoid(x):\n",
        "        return 1 / (1 + np.exp(-x))\n",
        "\n",
        "class LogRegression:\n",
        "    def __init__(self, learning_rate=0.001, n_iter=1000):\n",
        "        self.n_iter = n_iter\n",
        "        self.learning_rate = learning_rate\n",
        "        self.bias = None\n",
        "        self.weigh = None\n",
        "\n",
        "    def fit(self, X_train, y_train):\n",
        "        samples, features = X_train.shape\n",
        "        self.weigh = np.zeros((features, 1))\n",
        "        self.bias = 0\n",
        "\n",
        "        for _ in range(self.n_iter):\n",
        "            linear_pred = np.dot(X_train, self.weigh) + self.bias\n",
        "            predictions = sigmoid(linear_pred)\n",
        "\n",
        "            dw = (1 / samples) * np.dot(X_train.T, (predictions - y_train))\n",
        "            db = (1 / samples) * np.sum(predictions - y_train)\n",
        "\n",
        "            self.weigh -= self.learning_rate * dw\n",
        "            self.bias -= self.learning_rate * db\n",
        "\n",
        "    def predict(self, X_test):\n",
        "        linear_pred = np.dot(X_test, self.weigh) + self.bias\n",
        "        y_pred = sigmoid(linear_pred)\n",
        "        return [0 if y <= 0.5 else 1 for y in y_pred]\n",
        "\n",
        "\n",
        "\n",
        "\n",
        "df = pd.DataFrame(\n",
        "    {\n",
        "        \"height\": [190, 120, 180, 160, 172, 143, 155, 165, 181],\n",
        "        \"weight\": [91.2, 62.8, 78.3, 54, 70, 45.32, 70, 49.7, 78],\n",
        "        \"gender\": [1, 1, 1, 0, 0, 1, 0, 0, 1]  # male as 1 and female is 0\n",
        "    }\n",
        ")\n",
        "\n",
        "X = df.drop(\"gender\", axis=1)\n",
        "y = df[\"gender\"].values.reshape(-1, 1)\n",
        "\n",
        "X_train, X_test, y_train, y_test = train_test_split(X, y, test_size=0.2, random_state=42)\n",
        "\n",
        "model = LogRegression()\n",
        "model.fit(X_train, y_train)\n",
        "y_predict = model.predict(X_test)\n",
        "\n",
        "acc = accuracy_score(y_predict, y_test)\n",
        "print(f\"The Accuracy score (for Classification model) is: {acc}\")\n"
      ],
      "metadata": {
        "id": "udgujJtJXxME",
        "colab": {
          "base_uri": "https://localhost:8080/"
        },
        "outputId": "edfbaccf-d59a-4120-fe4b-f55a1763b9e9"
      },
      "execution_count": 5,
      "outputs": [
        {
          "output_type": "stream",
          "name": "stdout",
          "text": [
            "The Accuracy score (for Classification model) is: 1.0\n"
          ]
        }
      ]
    }
  ]
}